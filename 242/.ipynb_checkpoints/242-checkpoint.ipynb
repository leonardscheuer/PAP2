{
 "cells": [
  {
   "cell_type": "markdown",
   "id": "6828abfc-7ab6-416b-9b55-455ddf22dba3",
   "metadata": {
    "tags": []
   },
   "source": [
    "$\\DeclareMathOperator{\\d}{d}$\n",
    "# Protokoll PAP2 Versuch 242: Spannungsverstärker\n",
    "\n",
    "Leonard Scheuer\n",
    "\n",
    "\n",
    "## Motivation\n",
    "Dieser Versuch soll in das Arbeiten mit einem Operationsverstärker einführen. Es soll sich dafür mit den wichtigsten Eigenschaften vertraut gemacht werden und Kennlinien gemessen werden.\n",
    "## Grundlagen \n",
    "### Der Operationsverstärker\n",
    "<center>\n",
    "<img src=\"https://upload.wikimedia.org/wikipedia/commons/f/f7/DMT_OpV.svg\" width=\"300\" /> \n",
    "</center>\n",
    "<center>\n",
    "<b>Abbildung 1:  Operationsverstärker (Quelle: <a href=\"https://de.wikipedia.org/wiki/Operationsverst%C3%A4rker#/media/Datei:DMT_OpV.svg\">Wikipedia</a>, <a href=\"http://creativecommons.org/licenses/by-sa/3.0/\" title=\"Creative Commons Attribution-Share Alike 3.0\">CC BY-SA 3.0</a>)</b> \n",
    "</center>\n",
    "\n",
    "\n",
    "Der Operationsverstärker verstärkt die zwischen dem nicht Invertierenden (+) und Invertierendem Eingang (-) anliegnde Spannung $U_d$ mit dem Verstärkungsfaktor $v_0$:\n",
    "\\begin{align}\n",
    "\tU_A = - v_0 \\cdot (U^- - U^+)\\label{eq:1}\n",
    "\\end{align}\n",
    "Im Folgenden betreiben wir den Operationsverstärker invertierend, legen also unsere Eigenagsspannung auf \"-\" und Erden den nicht invertierenden (\"+\") Eingang. Da obige Verstärkung üblicherweise sehr groß ist (also auch bei kleinen Differenzen Sättigungsspannung/Versorgungsspannung ausgegeben wird), wird die Verstärung wird dann über Gegenkopplung realisiert. Wir nehmen für weitere Betrachtung an, dass der Ausgangs- und Eingangsiderstand des Verstärkers groß sind, also Spannungen unabhängig von der Belastung ausgegeben werden und kein Strom in den Eigang fließt. \n",
    "<center>\n",
    "<img src=\"https://upload.wikimedia.org/wikipedia/commons/1/1b/Inverting_Amplifier.svg\" width=\"300\" /> \n",
    "</center>\n",
    "<center>\n",
    "<b>Abbildung 2:  invertierender gegengekoppelter Operationsverstärker (Quelle: <a href=\"https://de.wikipedia.org/wiki/Datei:Inverting_Amplifier.svg\">Wikipedia</a>, <a href=\"http://creativecommons.org/licenses/by-sa/3.0/\" title=\"Creative Commons Attribution-Share Alike 3.0\">CC BY-SA 3.0</a>)</b> \n",
    "</center>\n",
    "In diesem Fall ergibt sich (aus einer Strombilianz am Knoten am Eingang mit Betrachtung dessen als \"virtuelle Masse\"):\n",
    "\\begin{align}\n",
    "U_a = v \\cdot U_e = \\left(1+ \\frac{R_2}{R_1}\\right) \\cdot U_e\n",
    "\\end{align}\n",
    "Dies gilt jedoch nur im statischen Fall, für hohe Frequenzen. Mit sinkender Verstärkung $v$ wird die Bandbreite größer:\n",
    "<center>\n",
    "<img src=\"https://upload.wikimedia.org/wikipedia/commons/e/eb/Closed_loop_gain.png\" width=\"500\" /> \n",
    "</center>\n",
    "<center>\n",
    "<b>Abbildung 3:  Frequenzgänge bei verschiedenen Verstärkungen (Quelle: <a href=\"https://commons.wikimedia.org/wiki/File:Closed_loop_gain.png\">Wikipedia</a>)</b> \n",
    "</center>\n",
    "Wird parallel zu $R_2$ noch ein Kondensator geschaltet, so ergibt sich (<a href=\"https://de.wikipedia.org/wiki/Operationsverst%C3%A4rker#Mittelwertbilder\">Aktiver Tiefpass/Mittelwertbilder</a>): \n",
    "\\begin{align}\n",
    "U_a =-U_e \\frac{R_2}{R_1} \\frac{1}{\\sqrt{1+(\\omega R_2C)^2}}\n",
    "\\end{align}\n",
    "\n",
    "<center>\n",
    "<img src=\"https://upload.wikimedia.org/wikipedia/commons/4/41/Aktiver_Tiefpass.png\" width=\"300\" /> \n",
    "</center>\n",
    "<center>\n",
    "<b>Abbildung 4:  Aktiver Tiefpass/Mittelwertbilder (Quelle: <a href=\"https://de.wikipedia.org/wiki/Operationsverst%C3%A4rker#/media/Datei:Aktiver_Tiefpass.png\">Wikipedia</a>, <a href=\"http://creativecommons.org/licenses/by-sa/3.0/\" title=\"Creative Commons Attribution-Share Alike 3.0\">CC BY-SA 3.0</a>)</b> \n",
    "</center>\n"
   ]
  },
  {
   "cell_type": "code",
   "execution_count": null,
   "id": "57f0afa3-ac5b-45e8-913d-4d32259b338b",
   "metadata": {},
   "outputs": [],
   "source": []
  }
 ],
 "metadata": {
  "kernelspec": {
   "display_name": "Python 3 (ipykernel)",
   "language": "python",
   "name": "python3"
  },
  "language_info": {
   "codemirror_mode": {
    "name": "ipython",
    "version": 3
   },
   "file_extension": ".py",
   "mimetype": "text/x-python",
   "name": "python",
   "nbconvert_exporter": "python",
   "pygments_lexer": "ipython3",
   "version": "3.10.2"
  }
 },
 "nbformat": 4,
 "nbformat_minor": 5
}
