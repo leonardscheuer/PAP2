{
 "cells": [
  {
   "cell_type": "markdown",
   "metadata": {},
   "source": [
    "# Protokoll PAP2 Versuch 223: Messung der Boltzmannkonstante Teil I; Brownsche Bewegung\n",
    "Leonard Scheuer\n",
    "\n",
    "## Motivation\n",
    "Die ***Brownsche Bewegung*** (nach Robert Brown) beschreibt die thermische Bewegung von hinreichend kleinen Teilchen in Gasen oder Flüssigkeiten. Dieser Effekt soll in diesem Versuch untersucht werden. Dazu beobachten wir lichtmikroskopisch ein in Wasser suspendiertes kugelförmiges Partikel. Das Ziel des Versuches ist es schließlich aus der Teilchenbahn auf die Boltzmannkonstante $k$ zurückzuschließen. "
   ]
  },
  {
   "cell_type": "markdown",
   "metadata": {},
   "source": [
    "## Theoretische Grundlagen\n",
    "### Random-Walk Modell in einer Dimension \n",
    "Wir betrachten zur Vereinfachung zunächst ein Partikel, welches sich nur eindimensional bewegen kann. Hat dieses eine von Null verschiedene absoulute Temperatur, so wird sich dieses zufällig umherbewegen. Wir nehmen nun an, das Teilchen könne sich pro Zeiteinheit $\\tau$ um einen diskreten Schritt $\\delta$ entweder nach Links oder nach Rechts bewegen.  Diese zufällige Bewegung bezeichnet man als ***Random-Walk***. Mit diesem Modell lässt sich die Brownsche Bewegung annähren. Betrachten wir einen Zeitpunkt $t$, so hat das Teilchen (startend bei $t=0$) bereits \n",
    "\\begin{equation}\n",
    "n = \\frac{t}{\\tau} \n",
    "\\end{equation}\n",
    "Stöße erfahren. Wir wollen nun betrachten, wo sich das Partikel befinden kann. Bewegt sich das Teilchen auf der x-Achse, so kann sich diese nur bei einem $x=m\\delta$ mit $m \\in \\mathbb{Z}$ befinden. Das Partikel hat insgesamt \n",
    "\\begin{equation}\n",
    "\\left(\\begin{array}{c}\n",
    "n \\\\\n",
    "\\frac{1}{2}(n+m)\n",
    "\\end{array}\\right) =\\frac{n !}{\\left[\\frac{1}{2}(n+m)\\right] !\\left[\\frac{1}{2}(n-m)\\right] !}\n",
    "\\end{equation}\n",
    "Mögliche Bewegungspfade an eine Position $x=m\\delta$. Der untere Eintrag im Binominalkoeffizienten ist dabei als \"wie oft das Teilchen nach Rechts laufen muss um $x$ zu erreichen\" zu lesen. Mit der Wahrscheinlichkeit $p=0.5$ nach rechts gestoßen zu werden erhält man direkt binominalvrteilt die Wahrscheilichkeit, dass sich das Teilchen nach $n$ Stößen am Ort $x=m\\delta$ aufhält:\n",
    "\\begin{equation}\n",
    "\\mathrm{P}(\\mathrm{m} ; \\mathrm{n})=\\left(\\begin{array}{c}\n",
    "n \\\\\n",
    "\\frac{1}{2}(n+m)\n",
    "\\end{array}\\right) p^{(n+m) / 2}(1-p)^{(n-m) / 2}=\\frac{n !}{\\left[\\frac{1}{2}(n+m)\\right] !\\left[\\frac{1}{2}(n-m)\\right] !}\\left(\\frac{1}{2}\\right)^{n}\n",
    "\\label{rw_P}\n",
    "\\end{equation}\n",
    "Im Versuch werden wir mit Beobachtungszeiten $t$ in der Größenordnung von 1s arbeiten, da $\\tau$ in der Regel sehr klein ist, wird $n$ sehr groß, sodass wir $n!$ und $m!$ mit der Stirlingschen Formel gut nähern können: \n",
    "\\begin{equation}\n",
    "n!=(2\\pi n)^{1/2}n^ne^{-n}\n",
    "\\end{equation}\n",
    "Damit lässt sich \\eqref{rw_P} vereinfachen:\n",
    "\\begin{equation}\n",
    "\\mathrm{P}(\\mathrm{m} ; \\mathrm{n})= \\sqrt{\\frac{2}{\\pi n}}e^{-\\frac{m^2}{2n}}\n",
    "\\end{equation}\n",
    "Wir definieren \n",
    "\\begin{equation}\n",
    "D=\\frac{\\delta^2}{2\\tau}\n",
    "\\end{equation}\n",
    "und erhalten durch Rücksubstitution und Ersetzung des Wertes $x$ durch ein Gebiet $[x,x+\\Delta X]$ eine Wahrscheinlichkeitsdichte:\n",
    "\\begin{equation}\n",
    "P(x ; t) \\Delta x=\\frac{\\Delta x}{\\sqrt{4 \\pi D t}} e^{-\\frac{x^{2}}{4 D t}}\n",
    "\\end{equation}\n",
    "Dies ist aber identisch mit einer Gaußverteilung mit Mittelwert 0 (dies ist auch direkt aus der Symmetrie des Problems sichtbar) und Varianz\n",
    "\\begin{equation}\n",
    "\\sigma^2=2Dt\n",
    "\\end{equation}\n",
    "Die daraus erhaltbare Standartabweichung $\\sigma$ ist nach unserem Modell der mittlere Abstand zum Ursprungsort, dies wird als ***Einstein-Smoluchowski-Gleichung*** bezeichnet:\n",
    "\\begin{equation}\n",
    "\\sigma=\\sqrt{<x^2>}=\\sqrt{2Dt}\n",
    "\\end{equation}\n",
    "### Verallgemeinerung auf zwei Dimensionen und physikalische Beschreibung\n",
    "Wir gehen von einer Isotropie des Raumes aus und erweitern unser Modell um eine Dimension. Damit ergibt sich:\n",
    "\\begin{equation}\n",
    "<r^2>=<x^2>+<y^2>.\n",
    "\\end{equation}\n",
    "und folglich\n",
    "\\begin{equation}\n",
    "\\sqrt{<r^2>}=\\sqrt{<x^2>+<y^2>}=\\sqrt{2Dt+2Dt}=\\sqrt{4Dt}\n",
    "\\end{equation}\n",
    "Nach Einstein gilt folgende Relation:\n",
    "\\begin{equation}\n",
    "D = \\frac{kT}{f} \n",
    "\\end{equation} wobei $k$ die Boltzmannkonstante, $T$ die Temperatur und $f$ ein Reibungskoeffizient ist. Dieser lässt sich über das Stoke’sche Gesetz bestimmen: \n",
    "\\begin{equation}\n",
    "f=6 \\pi \\eta a\n",
    "\\end{equation}\n",
    "Wobei $\\eta$ die Viskosität des Wassers und $a$ der Kugelradius ist. Dies ist also eine physikalische Beziehung der modellhaften mikroskopischen Größen $\\tau$ und $\\delta$ mit makrosopischen Größen. Wir erhalten nun direkt\n",
    "\\begin{align}\n",
    "&& <r^{2}>  &= \\frac{4 k T}{6 \\pi \\eta a} t \\\\\n",
    "\\therefore && k &= \\frac{6 \\pi \\eta a}{4  T t} <r^{2}> \n",
    "\\label{kb}\n",
    "\\end{align}.\n"
   ]
  },
  {
   "cell_type": "markdown",
   "metadata": {},
   "source": [
    "## Durchführung\n",
    "### Material\n",
    " - Durchlichtmikroskop Motic B1 mit CCD-Kamera\n",
    " - Kugelförmige Partikel suspendiert in Wasser\n",
    " -  PC mit Drucer\n",
    " -  Thermometer\n",
    " -  Objektmikrometer\n",
    "\n",
    "### Probenpräperation\n",
    "Nach ausfühlichem Schütteln wird die vorgefertigte Partikel-Wasser-Suspension auf einen Objektträger pipetiert, auf welchem ein doppelseitiges Klebeband mit ausgestanztem Loch aufgebracht ist. Das Loch ist nun gefüllt mit der Suspension, es wird unter Vermeidung von  Lufblasenbildung ein Deckglas aufgebracht. Dies geht am besten, wenn dieses zuerst auf einer Seite des Lochs abgesetzt wird und dann langsam komplett heruntergelassen wird, so kann die Luft besser ausströmen. Die Probe wird nun mit Immersionsöl unter das Objektiv 100/1.25 oil (100-fache Vergr¨oßerung, Numerische Apertur NA=1,25) gelegt. Das Mikroskop wird fokusiert, sodass die Partikel sichtbar werden. Gegebenfalls ist noch zu warten, bis sich die Probe im Thermischen Gleichgewicht befindet. \n",
    " \n",
    "### Aufnahme einer Bildfolge\n",
    "Es wird sich nun ein möglichst isolierter Partikel ausgesucht, der im Bild zentriert wird. Mittels des Aufnaheprogramms werden nun über mehrere Minuten in 1s-Abständen insgesammt etwa 160 Bilder gemacht (mindestens 150).\n",
    "\n",
    "### Eichung des Abbildungsmaßstabes\n",
    "Der Abbildungsmaßstab des Mikroskops muss noch geeicht werden, um die Bewegung des Teilchens hinterher anhand der Bilder  vermessen zu können. Dazu wird vom Objektmikrometer durch das Mikroskop ein Eichbild genommen. Aus den Positionen im Bild (x.y-Werte) und dem Abstand der Mikrometerstriche lässt sich jetzt die Eichung berechnen. \n",
    "### Vermessung der Partikelpositionen\n",
    "Mit dem zur Verfügung gestellten Programm lassen sich jetzt alle Bilder durchgehen und ein Coursor auf dem Partikel plazieren. Die Werte werden automatisch in eine Tabelle zur Auswertung eingetragen. "
   ]
  },
  {
   "cell_type": "markdown",
   "metadata": {},
   "source": [
    "## Messprotokoll (ohne Bilddaten)\n",
    "\n",
    "Durchmesser Latex-Partikel: 755 nm ± 30 nm\n",
    "\n",
    "Raumtemperatur: 21.9 ± 0.6°C (Fehler anhand von Schwankung geschätzt) \n",
    "\n",
    "In der Probe waren keine Luftbläschen zu sehen.\n",
    "\n",
    "Aufgenommene Bilder: 172\n",
    "\n",
    "\n",
    "Eichung:\n",
    "\n",
    "Erster Marker: x = 805 ± 5 \\[y = 455\\], Fehler geschätzt aus Liniendicke\n",
    "\n",
    "Zweiter Marker (6 Striche entfernt, also 60 µm): x = 187 ± 5 \\[y = 462\\], Fehler geschätzt aus Liniendicke\n",
    "\n",
    "Damit folgt für die Eichung: 206.0 ± 2.4 entspricht 20 µm"
   ]
  },
  {
   "cell_type": "code",
   "execution_count": 1,
   "metadata": {},
   "outputs": [],
   "source": [
    "a = 755.5*(10**(-9)) #Kugelradius\n",
    "Da = 30*10**(-9)   #Fehler\n",
    "\n",
    "T = 21.9 + 273.15 #Raumtemperatur\n",
    "DT = 0.6          #Fehler"
   ]
  },
  {
   "cell_type": "markdown",
   "metadata": {},
   "source": [
    "## Auswertung\n",
    "### grafische Darstellung der Messdaten\n",
    "Wir zeichen in Diagramm A1 die Bewegung des Teilchens nach, die Knotenpunkte sind jeweils die Position auf einem Bild."
   ]
  },
  {
   "cell_type": "code",
   "execution_count": 2,
   "metadata": {
    "scrolled": true
   },
   "outputs": [
    {
     "data": {
      "image/png": "[encoded data removed]",
      "text/plain": [
       "<Figure size 432x288 with 1 Axes>"
      ]
     },
     "metadata": {
      "needs_background": "light"
     },
     "output_type": "display_data"
    }
   ],
   "source": [
    "%matplotlib inline\n",
    "import matplotlib.pyplot as plt\n",
    "import matplotlib.mlab as mlab\n",
    "import numpy as np\n",
    "from IPython.display import Markdown, display, Latex\n",
    "\n",
    "def comma_to_float(valstr):\n",
    "  return float(valstr.decode(\"utf-8\").replace(',','.'))\n",
    "\n",
    "def round_up(n, decimals = 0):  \n",
    "    multiplier = 10 ** decimals  \n",
    "    return np.ceil(n * multiplier) / multiplier \n",
    "\n",
    "def outwstd(name,c,Dc,zp=0,decimals=0,unit=\"\"):\n",
    "    if zp==0:\n",
    "        display(Markdown(\"$\"+name+\" = (\" +str(round(c*10**(-zp),decimals))+\" \\pm \"+str(round_up(Dc*10**(-zp),decimals))+\") \"+unit+\"$\"))\n",
    "    else:\n",
    "        display(Markdown( \"$ \"+name+\" = ( \" +str(round(c*10**(-zp),decimals))+\" \\pm \"+str(round_up(Dc*10**(-zp),decimals))+\" )10^{ \"+str(zp)+\" }  \" + unit + \" $\"))\n",
    "\n",
    "def out_no_error(name,c,zp=0,decimals=0,unit=\"\"):\n",
    "    if zp==0:\n",
    "        display(Markdown(\"$\"+name+\" = \" +str(round(c*10**(-zp),decimals))+unit+\"$\"))\n",
    "    else:\n",
    "        display(Markdown( \"$ \"+name+\" = \" +str(round(c*10**(-zp),decimals))+\" )10^{ \"+str(zp)+\" }  \" + unit + \" $\"))\n",
    "\n",
    "\n",
    "\n",
    "t,x,y=np.loadtxt('Messung.dat', skiprows=0, usecols=(1,2,3),converters= {1:comma_to_float, 2:comma_to_float,3:comma_to_float}, unpack=True)\n",
    "\n",
    "plt.plot(x, y, marker='s', color='red', linewidth=1)\n",
    "plt.xlabel('x / '+' $\\mu$'+'m')\n",
    "plt.ylabel('y / '+' $\\mu$'+'m')\n",
    "_=plt.title('A1: Brownian Motion')"
   ]
  },
  {
   "cell_type": "markdown",
   "metadata": {},
   "source": [
    "### Berechnung des mittleren Verschiebungsquadrats und dessen Fehler\n",
    "In diesem Abschnitt wollen wir die Boltzmannkonstante und die Diffusionskonstante $D$ bestimmen. Dazu errechen wir zunächst aus den Daten das mittlere Verschiebungsquadrat und das mittlere Zeitintervall $dt$ zwischen zwei Bildern (diese kann leicht von einer Sekunde abweichen, daher ist dies notwendig) mit Standartabweichung, welche als Fehler genutzt wird:\n"
   ]
  },
  {
   "cell_type": "code",
   "execution_count": 3,
   "metadata": {},
   "outputs": [
    {
     "data": {
      "text/markdown": [
       "$ d<r^2> = ( 1.266 \\pm 0.087 )10^{ -12 }  m^2 $"
      ],
      "text/plain": [
       "<IPython.core.display.Markdown object>"
      ]
     },
     "metadata": {},
     "output_type": "display_data"
    },
    {
     "data": {
      "text/markdown": [
       "$dt = (1.00086 \\pm 6e-05) s$"
      ],
      "text/plain": [
       "<IPython.core.display.Markdown object>"
      ]
     },
     "metadata": {},
     "output_type": "display_data"
    }
   ],
   "source": [
    "#Berechnung des mittleren Verschiebungsquadrates mit Fehler\n",
    "dt = t[1:len(t)]-t[0:len(t)-1]\n",
    "dx = x[1:len(x)]-x[0:len(x)-1]\n",
    "dy = y[1:len(y)]-y[0:len(y)-1]\n",
    "\n",
    "r_squared = dx**2 + dy**2\n",
    "\n",
    "r_squared_mean = np.mean(r_squared)*1e-12 #Faktor für SI-Einheiten\n",
    "r_squared_mean_std = np.std(r_squared)/np.sqrt(len(r_squared))*1e-12\n",
    "outwstd(\"d<r^2>\",r_squared_mean,r_squared_mean_std,-12,decimals=3,unit=\"m^2\")\n",
    "\n",
    "dt_mean = np.mean(dt)\n",
    "dt_std = np.std(dt)/np.sqrt(len(dt))\n",
    "outwstd(\"dt\",dt_mean,dt_std,decimals=5,unit=\"s\")"
   ]
  },
  {
   "cell_type": "markdown",
   "metadata": {},
   "source": [
    "Wir berechenen nun die Viskosität von Wasser gemäß (Formel von [Wikipedia](https://de.wikipedia.org/wiki/Viskosit%C3%A4t)):\n",
    "\\begin{align}\n",
    "{\\displaystyle \\eta ={\\frac {1}{0,1\\cdot T^{2}-34,335\\cdot T+2472}}}\n",
    "\\end{align}\n",
    "mit Fehler\n",
    "\\begin{align}\n",
    "{\\Delta \\eta ={\\frac {-0,2\\cdot T+34,335}{(0,1\\cdot T^{2}-34,335\\cdot T+2472)^2}}} \\Delta T\n",
    "\\end{align}\n",
    "und berechnen anschließend mit (15) $k$ mit Fehler:\n",
    "\\begin{equation}\n",
    "\\Delta k=k\\sqrt{\\left(\\frac{\\Delta \\eta}{\\eta}\\right)^{2}+\\left(\\frac{\\Delta a}{a}\\right)^{2}+\\left(\\frac{\\Delta T}{T}\\right)^{2}\\left(\\frac{\\Delta dt}{dt}\\right)^{2}+\\left(\\frac{\\Delta d \\left\\langle r^{2}\\right\\rangle}{d\\left\\langle r^{2}\\right\\rangle}\\right)^{2}}\n",
    "\\end{equation}"
   ]
  },
  {
   "cell_type": "code",
   "execution_count": 4,
   "metadata": {},
   "outputs": [
    {
     "data": {
      "text/markdown": [
       "$ \\eta = ( 9.55 \\pm 0.14 )10^{ -4 }  Pa \\cdot s $"
      ],
      "text/plain": [
       "<IPython.core.display.Markdown object>"
      ]
     },
     "metadata": {},
     "output_type": "display_data"
    },
    {
     "data": {
      "text/markdown": [
       "$ k = ( 1.46 \\pm 0.12 )10^{ -23 }  J/K $"
      ],
      "text/plain": [
       "<IPython.core.display.Markdown object>"
      ]
     },
     "metadata": {},
     "output_type": "display_data"
    }
   ],
   "source": [
    "eta=1/(0.1*T**2-34.335*T+2472)\n",
    "Deta=abs(DT*(-0.2*T+34.335)/((1/eta)**2))\n",
    "outwstd(\"\\eta\",eta,Deta,-4,2,\"Pa \\cdot s\")\n",
    "\n",
    "k_1=6*np.pi*eta*a*r_squared_mean/(4*T*dt_mean)\n",
    "Dk_1=k_1*((Deta/eta)**2+(Da/a)**2+(r_squared_mean_std/r_squared_mean)**2+(DT/T)**2+(dt_std/dt_mean)**2)**0.5\n",
    "outwstd(\"k\",k_1,Dk_1,-23,2,\"J/K\")"
   ]
  },
  {
   "cell_type": "markdown",
   "metadata": {},
   "source": [
    "Aus gleichung (12) berechenen wir nun $D$ mit Fehler:\n",
    "    \\begin{equation}\n",
    "\\Delta D=D \\sqrt{\\left(\\frac{\\Delta k}{k}\\right)^{2}+\\left(\\frac{\\Delta T}{T}\\right)^{2}+\\left(\\frac{\\Delta \\eta}{\\eta}\\right)^{2}+\\left(\\frac{\\Delta a}{a}\\right)^{2}}\n",
    "\\end{equation}"
   ]
  },
  {
   "cell_type": "code",
   "execution_count": 5,
   "metadata": {},
   "outputs": [
    {
     "data": {
      "text/markdown": [
       "$ D = ( 0.316 \\pm 0.029 )10^{ -12 }   \\frac{m^2}{s} $"
      ],
      "text/plain": [
       "<IPython.core.display.Markdown object>"
      ]
     },
     "metadata": {},
     "output_type": "display_data"
    }
   ],
   "source": [
    "D_1=k_1*T/(6*np.pi*eta*a)\n",
    "DD_1=D_1*((Dk_1/k_1)**2+(DT/T)**2+(Deta/eta)**2+(Da/a)**2)**0.5\n",
    "outwstd(\"D\",D_1,DD_1,-12,3,\" \\\\frac{m^2}{s}\")"
   ]
  },
  {
   "cell_type": "markdown",
   "metadata": {},
   "source": [
    "\n",
    "### Kontrollverteilung\n",
    "\n",
    "Wir wollen das Experiment nun der theoretisch gefundenen Annhame Gaußverteilt zu sein gegenüberstellen, dafür betrachten wir nur die \"Auslenkung\" des Partikels in x- und y-Richtung zusammen und disktretisieren in räumliche Intevalle der Form $[x,\\Delta x]$ in einem Histogramm. Zum Vergleich plotten wir eine Gaußkurve ein (rot). Histogramm und Gauß sind auf ein Integral von 1 normiert."
   ]
  },
  {
   "cell_type": "code",
   "execution_count": 12,
   "metadata": {},
   "outputs": [
    {
     "data": {
      "image/png": "[encoded data removed]",
      "text/plain": [
       "<Figure size 432x288 with 1 Axes>"
      ]
     },
     "metadata": {
      "needs_background": "light"
     },
     "output_type": "display_data"
    }
   ],
   "source": [
    "all_data = np.append(dx,dy)\n",
    "weights = np.ones_like(all_data) / float(len(all_data))\n",
    "plt.hist(all_data, density=True)\n",
    "\n",
    "mu = np.mean(all_data)\n",
    "sigma = np.std(all_data)\n",
    "\n",
    "from scipy.stats import norm\n",
    "\n",
    "gauss = norm.pdf(np.linspace(-4,4), mu, sigma)\n",
    "\n",
    "plt.xlabel('Verschiebung [1/$\\mu m$]')\n",
    "plt.ylabel('rel. Wahrscheinlichkeit')\n",
    "plt.title('A2: Kontrollverteilung')\n",
    "plt.plot(np.linspace(-4,4), gauss, '-', linewidth=2, color=\"r\")\n",
    "_=plt.text(-3.5,0.45,'$\\mu$={value:0.3f}'.format(value=mu)+ '$\\mu m $')\n",
    "_=plt.text(-3.5,0.40,'$\\sigma$={value:0.3f}'.format(value=sigma)+ '$\\mu m$')"
   ]
  },
  {
   "cell_type": "markdown",
   "metadata": {},
   "source": [
    "Wir können sehen, dass der Wert von $\\sigma$ nahe am von Gleichung (9) vorhergesagten Wert mit obigem  $D$ (aus \"Berechnung des mittleren Verschiebungsquadrats und dessen Fehler\") liegt:"
   ]
  },
  {
   "cell_type": "code",
   "execution_count": 7,
   "metadata": {},
   "outputs": [
    {
     "data": {
      "text/markdown": [
       "$ \\sqrt{2D} = ( 0.795 \\pm 0.073 )10^{ -6 }   m $"
      ],
      "text/plain": [
       "<IPython.core.display.Markdown object>"
      ]
     },
     "metadata": {},
     "output_type": "display_data"
    }
   ],
   "source": [
    "outwstd(\"\\\\sqrt{2D}\",(2*D_1)**0.5,DD_1*(2/D_1)**0.5,-6,3,\" m\")"
   ]
  },
  {
   "cell_type": "markdown",
   "metadata": {},
   "source": [
    "### Kumulative Verteilung der Verschiebungsquadrate\n",
    "\n",
    "Wir wollen nun $k$ und $D$ auf andere Weise berechenen. Dazu betrachten wir die kummulative Verschiebung $<x^2>$ des Teilchens, diese sollte nach (11) proportional zu $t$ sein. Wir plotten die kommulative Verschiebung in Diag. A3 und fitten eine lineare Funktion ein. Die Steigung ist dann proportional $D$:\n",
    "\\begin{align}\n",
    "    D&=\\frac{<x^2>}{4t}\\\\\n",
    "    %\\Delta D &= \\sqrt{\\left (\\frac{\\Delta <x^2>}{4dt}\\right)^2+ \\left (\\frac{\\Delta dt <x^2>}{4 dt^2}\\right)^2}\n",
    "    \\end{align}"
   ]
  },
  {
   "cell_type": "code",
   "execution_count": 8,
   "metadata": {},
   "outputs": [
    {
     "data": {
      "text/markdown": [
       "$ D = ( 0.3165 \\pm 0.0011 )10^{ -12 }   \\frac{m^2}{s} $"
      ],
      "text/plain": [
       "<IPython.core.display.Markdown object>"
      ]
     },
     "metadata": {},
     "output_type": "display_data"
    },
    {
     "data": {
      "image/png": "[encoded data removed]",
      "text/plain": [
       "<Figure size 432x288 with 1 Axes>"
      ]
     },
     "metadata": {
      "needs_background": "light"
     },
     "output_type": "display_data"
    }
   ],
   "source": [
    "r_kumm=np.cumsum(r_squared)\n",
    "\n",
    "from scipy.optimize import curve_fit\n",
    "def linear(x,a,b):\n",
    "    return a*x+b\n",
    "\n",
    "popt, pcov=curve_fit(linear, t[:-1], r_kumm)\n",
    "\n",
    "plt.plot(t[:-1], r_kumm, marker='.', color='red', linewidth=0)\n",
    "plt.xlabel('Zeit / s')\n",
    "plt.ylabel('Summe $r_i^2 /\\mu m^2$')\n",
    "plt.title('A3: Kummulative Verschiebung')\n",
    "#plt.savefig('brown3.pdf', format='PDF')\n",
    "#print('A=', popt[0], '±', np.sqrt(pcov[0,0]))\n",
    "#print('B=', popt[1], '±', np.sqrt(pcov[1,1]))\n",
    "plt.plot(t[:-1], linear(t[:-1],*popt))\n",
    "\n",
    "_=plt.text(0,200,'Steigung: '+'A='+ str(round(popt[0],4))+ '±'+ str(round_up(np.sqrt(pcov[0,0]),4)) + ' $ \\mu m^2/s $')\n",
    " \n",
    "_=plt.text(0,180,'y-Achsenabschnitt: '+'B='+ str(round(popt[1],2))+ '±'+ str(round_up(np.sqrt(pcov[1,1]),2)) + ' $\\mu m^2 $')\n",
    "\n",
    "D_2=(popt[0]/4)*10**-12\n",
    "DD_2=(np.sqrt(pcov[0,0])/4)*10**-12\n",
    "outwstd(\"D\",D_2,DD_2,-12,4,\" \\\\frac{m^2}{s}\")"
   ]
  },
  {
   "cell_type": "markdown",
   "metadata": {},
   "source": [
    "Mit (14) können wir daraus $k$ bestimmen, mit Fehler:\n",
    "    \\begin{equation}\n",
    "\\Delta k=k \\sqrt{\\left(\\frac{\\Delta D}{D}\\right)^{2}+\\left(\\frac{\\Delta T}{T}\\right)^{2}+\\left(\\frac{\\Delta \\eta}{\\eta}\\right)^{2}+\\left(\\frac{\\Delta a}{a}\\right)^{2}}\n",
    "\\end{equation}"
   ]
  },
  {
   "cell_type": "code",
   "execution_count": 9,
   "metadata": {},
   "outputs": [
    {
     "data": {
      "text/markdown": [
       "$ k = ( 1.459 \\pm 0.062 )10^{ -23 }  J/K $"
      ],
      "text/plain": [
       "<IPython.core.display.Markdown object>"
      ]
     },
     "metadata": {},
     "output_type": "display_data"
    }
   ],
   "source": [
    "k_2= D_2*6*np.pi*eta*a/T\n",
    "Dk_2= k_2*((DD_2/D_2)**2+(Deta/eta)**2+(Da/a)**2+(DT/T)**2)**0.5\n",
    "outwstd(\"k\",k_2,Dk_2,-23,3,\"J/K\")"
   ]
  },
  {
   "cell_type": "markdown",
   "metadata": {},
   "source": [
    "### Vergleich aller Werte von $k$ und $D$\n",
    "Wir wollen nun alle Werte von $k$ und $D$ untereinander und $k$ mit einem [Literaturwert](https://de.wikipedia.org/wiki/Boltzmann-Konstante) vergleichen.  "
   ]
  },
  {
   "cell_type": "code",
   "execution_count": 10,
   "metadata": {},
   "outputs": [
    {
     "data": {
      "text/markdown": [
       "***Tabelle 1: Vergleich von $k$ und $D$***"
      ],
      "text/plain": [
       "<IPython.core.display.Markdown object>"
      ]
     },
     "metadata": {},
     "output_type": "display_data"
    },
    {
     "data": {
      "text/markdown": [
       "|                                         |   Mittelwerte quad. Verschiebung |   kummulativ |   Mittelwert |   Literaturwert | Sigma-Abweichung untereinander   |\n",
       "|:----------------------------------------|---------------------------------:|-------------:|-------------:|----------------:|:---------------------------------|\n",
       "| k $[\\frac{J}{K}]$                       |                      1.45786e-23 |  1.45935e-23 |   1.4586e-23 |     1.38065e-23 | 0.02                             |\n",
       "| Abweichung zum Literaturwert [$\\sigma$] |                      0.67        |  1.28        |   2.36       |     0           |                                  |"
      ],
      "text/plain": [
       "<IPython.core.display.Markdown object>"
      ]
     },
     "metadata": {},
     "output_type": "display_data"
    },
    {
     "data": {
      "text/markdown": [
       "|                      |   Mittelwerte quad. Verschiebung |   kummulativ |   Sigma-Abweichung untereinander |\n",
       "|:---------------------|---------------------------------:|-------------:|---------------------------------:|\n",
       "| D [ $\\frac{m^2}{s}$] |                      3.16216e-13 |   3.1654e-13 |                             0.23 |"
      ],
      "text/plain": [
       "<IPython.core.display.Markdown object>"
      ]
     },
     "metadata": {},
     "output_type": "display_data"
    }
   ],
   "source": [
    "def sigma(g1,Dg1,g2,Dg2):\n",
    "    return abs((g1-g2)/np.sqrt(Dg1**2+Dg2**2))\n",
    "\n",
    "import pandas as pd\n",
    "\n",
    "k_lit=1.380649*10**-23\n",
    "\n",
    "dk= {\"Mittelwerte quad. Verschiebung\":[k_1,round_up(sigma(k_1,Dk_1,k_lit,0),2)],\"kummulativ\":[k_2,round_up(sigma(k_2,Dk_2,k_lit,0),2)],\"Mittelwert\":[(k_1+k_2)/2,round_up(sigma((k_1+k_2)/2, 0.25*(Dk_1**2+Dk_2**2)**0.5 , k_lit,0),2)],\"Literaturwert\":[k_lit,0],\"Sigma-Abweichung untereinander\":[round_up(sigma(k_1,Dk_2,k_2,Dk_2),2),\"\"]}\n",
    "ik=[\"k $[\\\\frac{J}{K}]$\",\"Abweichung zum Literaturwert [$\\sigma$]\"]\n",
    "dfk = pd.DataFrame(data=dk, index=ik)\n",
    "display(Markdown(\"***Tabelle 1: Vergleich von $k$ und $D$***\"))\n",
    "display(Markdown(dfk.to_markdown()))\n",
    "\n",
    "dD= {\"Mittelwerte quad. Verschiebung\":[D_1],\"kummulativ\":[D_2],\"Sigma-Abweichung untereinander\":[round_up(sigma(D_1,DD_2,D_2,DD_2),2)]}\n",
    "iD=[\"D [ $\\\\frac{m^2}{s}$]\"]\n",
    "dfD = pd.DataFrame(data=dD, index=iD)\n",
    "display(Markdown(dfD.to_markdown()))\n",
    "\n"
   ]
  },
  {
   "cell_type": "markdown",
   "metadata": {},
   "source": [
    "## Diskussion\n",
    "\n",
    "In diesm Versuch haben wir die Brown'sche Bewegung eines Partikels in einer dünnen Wasserschicht beobachtet (vgl. Diag. A1). Wir haben schließlich auf zwei verschiedene Arten daraus die Boltzmannkonstante $k$ bestimmt. Zunächst haben wir die mittlere quadratische Verschiebung während einer Zeiteinheit zwischen den Messpunkten genutzt, dann haben wir die Kummulative Verschiebung des Teilchens genutzt um $D$ und daraus $k$ berchent. Beide Methoden liefern nahezu Identische Werte (Abweichung $<0.02 \\sigma$). Beide Werte unterscheiden sich etwas vom Literaturwert, aber nicht signifikant($<0.67 \\sigma$ in der ersten Methode; $ <1.28\\sigma$ in der zweiten Methode). Da beide Methoden die gleichen Messdaten nutzen, ist es nicht verwunderlich, dass die Ergebnisse nahe beieinander liegen. Der Fehler der zweiten Methode ist rechnerisch nur etwa halb so groß wie jener der ersten Methode, jedoch liegt der durch die erste Methode erhaltene Wert bei uns näher am Literaturwert. Der Mittelwert der beiden emittelten $k$s unterscheidet sich deutlich, aber noch nicht signifikant vom Literaturwert (Abweichung $2.36 \\sigma$). Betrachtet man die Fehlerformeln für $k$, sieht man, dass dort nur relative Fehler auftreten, welche alle auf gleiche Weise wirken. Wir berechen diese um sie zu Vergleichen (gerundet auf vier Nachkommastellen): "
   ]
  },
  {
   "cell_type": "code",
   "execution_count": 11,
   "metadata": {},
   "outputs": [
    {
     "data": {
      "text/markdown": [
       "$\\frac{\\Delta d<r^2>}{d<r^2>} = 0.068$"
      ],
      "text/plain": [
       "<IPython.core.display.Markdown object>"
      ]
     },
     "metadata": {},
     "output_type": "display_data"
    },
    {
     "data": {
      "text/markdown": [
       "$\\frac{\\Delta dt}{dt} = 0.0$"
      ],
      "text/plain": [
       "<IPython.core.display.Markdown object>"
      ]
     },
     "metadata": {},
     "output_type": "display_data"
    },
    {
     "data": {
      "text/markdown": [
       "$\\frac{\\Delta D_{kummulativ}}{D_{kummulativ}} = 0.003$"
      ],
      "text/plain": [
       "<IPython.core.display.Markdown object>"
      ]
     },
     "metadata": {},
     "output_type": "display_data"
    },
    {
     "data": {
      "text/markdown": [
       "$\\frac{\\Delta T}{T} = 0.002$"
      ],
      "text/plain": [
       "<IPython.core.display.Markdown object>"
      ]
     },
     "metadata": {},
     "output_type": "display_data"
    },
    {
     "data": {
      "text/markdown": [
       "$\\frac{\\Delta a}{a} = 0.04$"
      ],
      "text/plain": [
       "<IPython.core.display.Markdown object>"
      ]
     },
     "metadata": {},
     "output_type": "display_data"
    },
    {
     "data": {
      "text/markdown": [
       "$\\frac{\\Delta \\eta }{ \\eta} = 0.014$"
      ],
      "text/plain": [
       "<IPython.core.display.Markdown object>"
      ]
     },
     "metadata": {},
     "output_type": "display_data"
    }
   ],
   "source": [
    "out_no_error(\"\\\\frac{\\Delta d<r^2>}{d<r^2>}\",r_squared_mean_std/r_squared_mean,0,3,\"\")\n",
    "out_no_error(\"\\\\frac{\\Delta dt}{dt}\",dt_std/dt_mean,0,3,\"\")\n",
    "out_no_error(\"\\\\frac{\\Delta D_{kummulativ}}{D_{kummulativ}}\",DD_2/D_2,0,3,\"\")\n",
    "out_no_error(\"\\\\frac{\\Delta T}{T}\",DT/T,0,3,\"\")\n",
    "out_no_error(\"\\\\frac{\\Delta a}{a}\",Da/a,0,3,\"\")\n",
    "out_no_error(\"\\\\frac{\\Delta \\eta }{ \\eta}\",Deta/eta,0,3,\"\")"
   ]
  },
  {
   "cell_type": "markdown",
   "metadata": {},
   "source": [
    "Wir sehen, dass in der ersten Methode die Unsicherheit des mittleren Abstandsquadrates dominierend ist. Eine mögliche Erklärung hierfür ist, dass sich die Partikel eben nicht Stoßartig jede Sekunde bewegen, sondern der physikalische Fall eben für $\\tau \\to 0$ genauer genährt wird, der Fehler sollte also für höhere Bildraten kleiner werden. Auch Bewegungen in der Tiefe werden nicht erfasst. Der Fehler, dass nicht alle zurückgelegte Strecke erfasst wird, wirkt sich auch auf die zweite Methode aus, taucht dort allerding nicht in der Fehlerrechnung auf, da die gefittete Funktion daher eine systematisch zu geringe Steigung besitzt, da bereits die Summe der Verschiebungen eine systematisch zu kleine gesamtverschiebung aufweist. Dieser systematische Fehler wurde in diesem Experiment nicht beachtet. Jedoch würde ein Fehler dieser Art zur unterschätzung von $k$ führen, während unsere Werte nach oben abweichen. Hier wäre es interessant mehr Messungen zum Vergleich zu betrachten. \n",
    "\n",
    "In zweiterer Methodik vordergründig, aber auch in ersterer nicht zu vernachlässigen, ist der Fehler von $a$. Wenn möglich könnte man hier Kugeln mit geringeren Toleranzen verwenden. Wenn Informationen über die Verteilung der Kugelgrößendeviationen vorliegen könnte man den Messwert hier über mehr Messungen einzelner Partikel mitteln und so präzisieren.  \n",
    "\n",
    "Insgesamt bestätigt unsere Messung jedoch den Literaturwert für $k$, wenn auch für eine genauere Messung noch Nachbesserungen notwendig wären. Auch haben wir das Modell, mit welchem wir die Brown'sche Bewegung beschrieben haben bestätigen können, wir konnten sehen, dass die Verschiebung tatsächlich gaußverteilt ist und die Gaußverteilung so beschrieben werden kann wie vorhergesagt."
   ]
  }
 ],
 "metadata": {
  "kernelspec": {
   "display_name": "Python 3 (ipykernel)",
   "language": "python",
   "name": "python3"
  },
  "language_info": {
   "codemirror_mode": {
    "name": "ipython",
    "version": 3
   },
   "file_extension": ".py",
   "mimetype": "text/x-python",
   "name": "python",
   "nbconvert_exporter": "python",
   "pygments_lexer": "ipython3",
   "version": "3.10.1"
  }
 },
 "nbformat": 4,
 "nbformat_minor": 4
}
