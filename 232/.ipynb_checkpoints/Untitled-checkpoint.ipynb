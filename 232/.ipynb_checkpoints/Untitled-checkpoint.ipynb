{
 "cells": [
  {
   "cell_type": "markdown",
   "metadata": {},
   "source": [
    "# Protokoll PAP2 Versuch 232: Michelson-Interferometer\n",
    "\n",
    "Leonard Scheuer\n",
    "\n",
    "## Motivation/Versuchsziel\n",
    "\n",
    "\n",
    "\n"
   ]
  },
  {
   "cell_type": "markdown",
   "metadata": {},
   "source": [
    "## Grundlagen und Einleitung\n",
    "\n",
    "### Interferenz von Wellen\n",
    "\n",
    "Betrachten wir zwei ebene monochromatische Lichtwellen $\\vec{E_1}(\\vec{r},t),\\vec{E_2}(\\vec{r},t)$, welche nur um eine Phase $\\varphi$ verschoben sind, der Form\n",
    "\\begin{equation}\n",
    "\\begin{aligned}\n",
    "&\\vec{E}_{1}(\\vec{r}, t)=\\vec{E}_{01} e^{i\\left(\\omega t-\\overrightarrow{k_{1}} \\vec{r}+\\phi_{1}\\right)} \\\\\n",
    "&\\vec{E}_{2}(\\vec{r}, t)=\\vec{E}_{02} e^{i\\left(\\omega t-\\overrightarrow{k_{2}} \\vec{r}+\\phi_{2}\\right)} = \\vec{E}_{2}(\\vec{r}, t)=\\vec{E}_{02} e^{i\\left(\\omega t-\\overrightarrow{k_{2}} \\vec{r}+\\phi_{1}-\\varphi\\right)}\n",
    "\\end{aligned}\n",
    "\\end{equation}\n",
    "\n",
    "so können sich diese Überlagern und eine Superposition bilden:\n",
    "\\begin{equation}\n",
    "    \\vec{E_S}(\\vec{r},t)=\\vec{E_1}(\\vec{r},t)+\\vec{E_2}(\\vec{r},t)\n",
    "\\end{equation}\n",
    "\n",
    "Für hohe Frequenzen wie bei sichtbarem Licht ist nurnoch die Intensität beobachtbar, also der zeitliche Mittelwert der Energie die eine Fläche bestrahlt:\n",
    "\\begin{equation}\n",
    "I_{S}(\\vec{r}, t) \\propto\\left|\\vec{E}_{S}(\\vec{r}, t)\\right|^{2}=\\left|\\vec{E}_{1}\\right|^{2}+\\left|\\vec{E}_{2}\\right|^{2}+2 \\vec{E}_{01} \\vec{E}_{02} \\cos \\varphi\n",
    "\\end{equation}\n",
    "wobei \n"
   ]
  },
  {
   "cell_type": "code",
   "execution_count": null,
   "metadata": {},
   "outputs": [],
   "source": []
  }
 ],
 "metadata": {
  "kernelspec": {
   "display_name": "Python 3",
   "language": "python",
   "name": "python3"
  },
  "language_info": {
   "codemirror_mode": {
    "name": "ipython",
    "version": 3
   },
   "file_extension": ".py",
   "mimetype": "text/x-python",
   "name": "python",
   "nbconvert_exporter": "python",
   "pygments_lexer": "ipython3",
   "version": "3.8.5"
  }
 },
 "nbformat": 4,
 "nbformat_minor": 4
}
