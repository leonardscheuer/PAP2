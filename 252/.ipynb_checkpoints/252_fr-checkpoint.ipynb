{
 "cells": [
  {
   "cell_type": "markdown",
   "id": "499266aa",
   "metadata": {},
   "source": [
    "Bestimmung des Untergrunds\n",
    "==="
   ]
  },
  {
   "cell_type": "code",
   "execution_count": 1,
   "id": "df518f4f",
   "metadata": {},
   "outputs": [
    {
     "name": "stdout",
     "output_type": "stream",
     "text": [
      "Mittelwert Untergrund: (14.7 ± 1.2) Ereignisse / 10s\n"
     ]
    }
   ],
   "source": [
    "import numpy as np\n",
    "import matplotlib.pyplot as plt\n",
    "%matplotlib inline\n",
    "from scipy.optimize import curve_fit\n",
    "from scipy.stats import chi2\n",
    "\n",
    "unterg = np.loadtxt('untergrund.dat', usecols=[1])\n",
    "\n",
    "mittelw_unterg = np.mean(4 * unterg)\n",
    "fehler_unterg = np.std(4 * unterg) / np.sqrt(len(unterg))\n",
    "\n",
    "print('Mittelwert Untergrund: ({0:.1f} ± {1:.1f}) Ereignisse / 10s'.format(mittelw_unterg, fehler_unterg))"
   ]
  },
  {
   "cell_type": "markdown",
   "id": "208149ba",
   "metadata": {},
   "source": [
    "Bestimmung der Halbwertszeit von Silber\n",
    "==="
   ]
  },
  {
   "cell_type": "code",
   "execution_count": 2,
   "id": "0ea5df05",
   "metadata": {},
   "outputs": [
    {
     "data": {
      "image/png": "[encoded data removed]",
      "text/plain": [
       "<Figure size 432x288 with 1 Axes>"
      ]
     },
     "metadata": {
      "needs_background": "light"
     },
     "output_type": "display_data"
    }
   ],
   "source": [
    "n1 = np.loadtxt('silber_1.dat', usecols = [1])\n",
    "n2 = np.loadtxt('silber_2.dat', usecols = [1])\n",
    "n3 = np.loadtxt('silber_3.dat', usecols = [1])\n",
    "n4 = np.loadtxt('silber_4.dat', usecols = [1])\n",
    "\n",
    "N = n1 + n2 + n3 + n4\n",
    "Fehler_N = np.sqrt(N)\n",
    "\n",
    "t = np.arange(5,405,10)\n",
    "\n",
    "plt.errorbar(t, N, Fehler_N, linestyle='None', fmt = 'x', capsize = 3)\n",
    "plt.xlabel('Zeit / s')\n",
    "plt.ylabel('Zerfälle')\n",
    "plt.title('Zerfall von Silber mit Untergrund')\n",
    "plt.yscale('log')"
   ]
  },
  {
   "cell_type": "markdown",
   "id": "797425b4",
   "metadata": {},
   "source": [
    "Da sowohl $^{108}$Ag als auch $^{110}$Ag zerfallen, wird als Fit-Funktion die Superposition von zwei Zerfallsfunktionen gewählt, zuzüglich des entsprechenden Untergrunds $A_{UG}$:\n",
    "$$ A(t) = A_1 e^{-\\lambda_1 t} + A_2 e^{-\\lambda_2 t} + A_{UG}$$"
   ]
  },
  {
   "cell_type": "code",
   "execution_count": 3,
   "id": "2646227f",
   "metadata": {},
   "outputs": [
    {
     "data": {
      "image/png": "[encoded data removed]",
      "text/plain": [
       "<Figure size 432x288 with 1 Axes>"
      ]
     },
     "metadata": {
      "needs_background": "light"
     },
     "output_type": "display_data"
    }
   ],
   "source": [
    "def fit_func(x, A1, l1, A2, l2):\n",
    "    return A1 * np.exp(-x * l1) + A2 * np.exp(-x * l2) + y0\n",
    "\n",
    "y0 = mittelw_unterg\n",
    "popt, pcov = curve_fit(fit_func, t, N, p0 = [500,0.02,50,0.001], sigma = Fehler_N)\n",
    "\n",
    "plt.errorbar(t, N, Fehler_N, linestyle='None', fmt = 'x', capsize = 3)\n",
    "plt.xlabel('Zeit / s')\n",
    "plt.ylabel('Zerfälle')\n",
    "plt.title('Zerfall von Silber mit Untergrund')\n",
    "plt.yscale('log')\n",
    "plt.plot(t, fit_func(t, *popt))\n",
    "plt.savefig('silber.jpeg')"
   ]
  },
  {
   "cell_type": "code",
   "execution_count": 4,
   "id": "0d7eebb3",
   "metadata": {},
   "outputs": [
    {
     "name": "stdout",
     "output_type": "stream",
     "text": [
      "A1 = (217 ± 16) Ereignisse / s\n",
      "l1 = (0.035 ± 0.005) / s\n",
      "A2 = (57 ± 12) Ereignisse / s\n",
      "l2 = (0.0055 ± 0.0009) / s\n"
     ]
    }
   ],
   "source": [
    "print(\"A1 = ({0} ± {1}) Ereignisse / s\".format(int(popt[0]), int(np.sqrt(pcov[0][0]))))\n",
    "print(\"l1 = ({0:.3f} ± {1:.3f}) / s\".format(popt[1], np.sqrt(pcov[1][1])))\n",
    "print(\"A2 = ({0} ± {1}) Ereignisse / s\".format(int(popt[2]), int(np.sqrt(pcov[2][2]))))\n",
    "print(\"l2 = ({0:.4f} ± {1:.4f}) / s\".format(popt[3], np.sqrt(pcov[3][3])))"
   ]
  },
  {
   "cell_type": "code",
   "execution_count": 5,
   "id": "69d0c175",
   "metadata": {},
   "outputs": [
    {
     "name": "stdout",
     "output_type": "stream",
     "text": [
      "chi2 = 28.9\n",
      "chi2_red = 0.8\n"
     ]
    }
   ],
   "source": [
    "chi2_ = np.sum((fit_func(t, *popt) - N)**2/ Fehler_N**2)\n",
    "dof = len(N) - 4 #dof:degrees of freedom, Freiheitsgrad\n",
    "chi2_red = chi2_ / dof\n",
    "\n",
    "print(\"chi2 = {0:.1f}\".format(chi2_))\n",
    "print(\"chi2_red = {0:.1f}\".format(chi2_red))"
   ]
  },
  {
   "cell_type": "code",
   "execution_count": 6,
   "id": "9eec4a96",
   "metadata": {},
   "outputs": [
    {
     "name": "stdout",
     "output_type": "stream",
     "text": [
      "Fitwahrscheinlichkeit:  79.0 %\n"
     ]
    }
   ],
   "source": [
    "prob = round(1 - chi2.cdf(chi2_, dof), 2) * 100\n",
    "print(\"Fitwahrscheinlichkeit: \", prob, \"%\")"
   ]
  },
  {
   "cell_type": "markdown",
   "id": "4ffb9718",
   "metadata": {},
   "source": [
    "Um den Fehler des Untergrundes in den Fehler der Zerfallskonstante einzubeziehen, wird der Fit für den Mittelwert $\\pm$ dem $1\\sigma$-Fehler wiederholt, die Differenz zu $\\lambda$ gemittelt und diesen Fehler quadratisch zu dem ursprünglichen Fehler addiert:"
   ]
  },
  {
   "cell_type": "code",
   "execution_count": 7,
   "id": "55548af5",
   "metadata": {},
   "outputs": [
    {
     "name": "stdout",
     "output_type": "stream",
     "text": [
      "Zerfallskonstante 1: (0.035 ± 0.005)/s\n",
      "Zerfallskonstante 2: (0.0055 ± 0.0011)/s\n"
     ]
    }
   ],
   "source": [
    "y0 = mittelw_unterg - fehler_unterg\n",
    "popt1, pcov1 = curve_fit(fit_func, t, N, p0 = [500,0.02,50,0.001], sigma = Fehler_N)\n",
    "\n",
    "y0 = mittelw_unterg + fehler_unterg\n",
    "popt2, pcov2 = curve_fit(fit_func, t, N, p0 = [500,0.02,50,0.001], sigma = Fehler_N)\n",
    "\n",
    "err_1 = np.mean(np.array([np.abs(popt1 - popt)[1] , np.abs(popt2 - popt)[1]]))\n",
    "err_2 = np.mean(np.array([np.abs(popt1 - popt)[3] , np.abs(popt2 - popt)[3]]))\n",
    "\n",
    "err_1 = np.sqrt(err_1**2 + pcov[1][1])\n",
    "err_2 = np.sqrt(err_2**2 + pcov[3][3])\n",
    "\n",
    "print('Zerfallskonstante 1: ({0:.3f} ± {1:.3f})/s'.format(popt[1], err_1))\n",
    "print('Zerfallskonstante 2: ({0:.4f} ± {1:.4f})/s'.format(popt[3], err_2))"
   ]
  },
  {
   "cell_type": "markdown",
   "id": "a826ec52",
   "metadata": {},
   "source": [
    "Die Halbwertszeit ermittelt sich nach den physikalischen Grundlagen durch:\n",
    "$$ t_H = \\frac{\\ln(2)}\\lambda $$\n",
    "$$ \\Leftrightarrow \\Delta t_H = \\frac{\\ln(2)}{\\lambda^2}\\Delta \\lambda $$"
   ]
  },
  {
   "cell_type": "code",
   "execution_count": 8,
   "id": "50d4b080",
   "metadata": {},
   "outputs": [
    {
     "name": "stdout",
     "output_type": "stream",
     "text": [
      "Halbwertszeit 1: (19.8 ± 2.8)s\n",
      "Halbwertszeit 2: (125 ± 24)s\n"
     ]
    }
   ],
   "source": [
    "t_hw_1 = np.log(2) / popt[1]\n",
    "t_hw_2 = np.log(2) / popt[3]\n",
    "\n",
    "t_hw_1_err = t_hw_1 * err_1 / popt[1]\n",
    "t_hw_2_err = t_hw_2 * err_2 / popt[3]\n",
    "\n",
    "print('Halbwertszeit 1: ({0:.1f} ± {1:.1f})s'.format(t_hw_1, t_hw_1_err))\n",
    "print('Halbwertszeit 2: ({0} ± {1})s'.format(int(t_hw_2), int(t_hw_2_err)))"
   ]
  },
  {
   "cell_type": "markdown",
   "id": "243cf829",
   "metadata": {},
   "source": [
    "Da die Halbwertszeit von $^{110}$Ag kürzer als die von $^{108}$Ag ist, korrespondiert die erste Halbwertszeit zu $^{110}$Ag, die zweite zu $^{108}$Ag."
   ]
  },
  {
   "cell_type": "code",
   "execution_count": 9,
   "id": "7addb67a",
   "metadata": {},
   "outputs": [
    {
     "name": "stdout",
     "output_type": "stream",
     "text": [
      "Abweichung vom Literaturwert 1: 1.74\n",
      "Abweichung vom Literaturwert 1: 0.81\n"
     ]
    }
   ],
   "source": [
    "t_lit_1 = 24.6\n",
    "t_lit_2 = 2.41 * 60\n",
    "\n",
    "sigma_1 = np.abs(t_lit_1 - t_hw_1) / t_hw_1_err\n",
    "sigma_2 = np.abs(t_lit_2 - t_hw_2) / t_hw_2_err\n",
    "\n",
    "print('Abweichung vom Literaturwert 1: {0:.2f}'.format(sigma_1))\n",
    "print('Abweichung vom Literaturwert 1: {0:.2f}'.format(sigma_2))"
   ]
  },
  {
   "cell_type": "markdown",
   "id": "547c8dfc",
   "metadata": {},
   "source": [
    "Bestimmung der Halbwertszeit von Indium\n",
    "==="
   ]
  },
  {
   "cell_type": "markdown",
   "id": "df3ab8d1",
   "metadata": {},
   "source": [
    "Da die Messzeit bei Indium bei 120s lag, muss der Untergrund $\\cdot 12$ genommen werden, damit die Untergrundereignisse / 120s bekannt sind:"
   ]
  },
  {
   "cell_type": "code",
   "execution_count": 10,
   "id": "d71c7832",
   "metadata": {},
   "outputs": [
    {
     "data": {
      "image/png": "[encoded data removed]",
      "text/plain": [
       "<Figure size 432x288 with 1 Axes>"
      ]
     },
     "metadata": {
      "needs_background": "light"
     },
     "output_type": "display_data"
    }
   ],
   "source": [
    "N = np.loadtxt('indium.dat', usecols = [1])\n",
    "Fehler_N = np.sqrt(N)\n",
    "t = np.arange(5,3005,120)\n",
    "\n",
    "mittelw_unterg = np.mean(unterg) * 12 # Ereignisse / 120s\n",
    "fehler_unterg = np.std(unterg) / np.sqrt(len(unterg)) * 12\n",
    "\n",
    "plt.errorbar(t, N, Fehler_N, linestyle = 'None', fmt = 'x', capsize = 3)\n",
    "plt.xlabel('Zeit / s')\n",
    "plt.ylabel('Zerfaelle')\n",
    "plt.title('Zerfall von Indium mit Untergrund')\n",
    "plt.yscale('log')"
   ]
  },
  {
   "cell_type": "markdown",
   "id": "5ce99d51",
   "metadata": {},
   "source": [
    "Bei Indium zerfallen zwei Isomere, da die Zerfallszeit des einen jedoch nach Literaturangaben 14s beträgt, ist es bei der gewählten Torzeit nur in der ersten Messung tatsächlich nachweisbar. Es wird somit die erste Messung. nicht genutzt und als Fitfunktion der normale Zerfall eines Isotops gewählt:\n",
    "$$ A(t)  = A_1 e^{-\\lambda_1 t} $$"
   ]
  },
  {
   "cell_type": "code",
   "execution_count": 11,
   "id": "5a63a465",
   "metadata": {},
   "outputs": [
    {
     "data": {
      "image/png": "[encoded data removed]",
      "text/plain": [
       "<Figure size 432x288 with 1 Axes>"
      ]
     },
     "metadata": {
      "needs_background": "light"
     },
     "output_type": "display_data"
    }
   ],
   "source": [
    "def fit_func(x, A1, l1):\n",
    "    return A1 * np.exp(-x * l1) + y0\n",
    "\n",
    "y0 = mittelw_unterg\n",
    "popt, pcov = curve_fit(fit_func, t[1:], N[1:], p0 = [500,0.0], sigma = Fehler_N[1:])\n",
    "\n",
    "plt.errorbar(t, N, Fehler_N, linestyle='None', fmt = 'x', capsize = 3)\n",
    "plt.xlabel('Zeit / s')\n",
    "plt.ylabel('Zerfälle')\n",
    "plt.title('Zerfall von Indium mit Untergrund')\n",
    "plt.yscale('log')\n",
    "plt.plot(t, fit_func(t, *popt))\n",
    "plt.savefig('indium.jpeg')"
   ]
  },
  {
   "cell_type": "code",
   "execution_count": 12,
   "id": "a1dd852a",
   "metadata": {},
   "outputs": [
    {
     "name": "stdout",
     "output_type": "stream",
     "text": [
      "A1 = (772 ± 12) Ereignisse / s\n",
      "l1 = (0.000209 ± 0.000010) / s\n"
     ]
    }
   ],
   "source": [
    "print(\"A1 = ({0} ± {1}) Ereignisse / s\".format(int(popt[0]), int(np.sqrt(pcov[0][0]))))\n",
    "print(\"l1 = ({0:.6f} ± {1:.6f}) / s\".format(popt[1], np.sqrt(pcov[1][1])))"
   ]
  },
  {
   "cell_type": "code",
   "execution_count": 13,
   "id": "14d1a5ad",
   "metadata": {},
   "outputs": [
    {
     "name": "stdout",
     "output_type": "stream",
     "text": [
      "chi2 = 20.9\n",
      "chi2_red = 0.9\n"
     ]
    }
   ],
   "source": [
    "chi2_ = np.sum((fit_func(t[1:], *popt) - N[1:])**2/ Fehler_N[1:]**2)\n",
    "dof = len(N[1:]) - 2 #dof:degrees of freedom, Freiheitsgrad\n",
    "chi2_red = chi2_ / dof\n",
    "\n",
    "print(\"chi2 = {0:.1f}\".format(chi2_))\n",
    "print(\"chi2_red = {0:.1f}\".format(chi2_red))"
   ]
  },
  {
   "cell_type": "code",
   "execution_count": 14,
   "id": "7aaa9f67",
   "metadata": {},
   "outputs": [
    {
     "name": "stdout",
     "output_type": "stream",
     "text": [
      "Fitwahrscheinlichkeit =  53.0 %\n"
     ]
    }
   ],
   "source": [
    "prob = round(1 - chi2.cdf(chi2_, dof), 2) * 100\n",
    "print(\"Fitwahrscheinlichkeit = \", prob, \"%\")"
   ]
  },
  {
   "cell_type": "code",
   "execution_count": 15,
   "id": "f7793ac8",
   "metadata": {},
   "outputs": [
    {
     "name": "stdout",
     "output_type": "stream",
     "text": [
      "Zerfallskonstante: (0.000209 ± 0.000016)/s\n"
     ]
    }
   ],
   "source": [
    "y0 = mittelw_unterg - fehler_unterg\n",
    "popt1, pcov1 = curve_fit(fit_func, t, N, p0 = [500,0.02], sigma = Fehler_N)\n",
    "\n",
    "y0 = mittelw_unterg + fehler_unterg\n",
    "popt2, pcov2 = curve_fit(fit_func, t, N, p0 = [500,0.02], sigma = Fehler_N)\n",
    "\n",
    "err_1 = np.mean(np.array([np.abs(popt1 - popt)[1] , np.abs(popt2 - popt)[1]]))\n",
    "\n",
    "err_1 = np.sqrt(err_1**2 + pcov[1][1])\n",
    "\n",
    "print('Zerfallskonstante: ({0:.6f} ± {1:.6f})/s'.format(popt[1], err_1))"
   ]
  },
  {
   "cell_type": "code",
   "execution_count": 16,
   "id": "5fab1d24",
   "metadata": {},
   "outputs": [
    {
     "name": "stdout",
     "output_type": "stream",
     "text": [
      "Halbwertszeit: (3310 ± 250)s\n"
     ]
    }
   ],
   "source": [
    "t_hw_1 = np.log(2) / popt[1]\n",
    "\n",
    "t_hw_1_err = t_hw_1 * err_1 / popt[1]\n",
    "\n",
    "print('Halbwertszeit: ({0} ± {1})s'.format(int(t_hw_1 / 10) * 10, int((t_hw_1_err+5) / 10) * 10))"
   ]
  },
  {
   "cell_type": "code",
   "execution_count": 17,
   "id": "e69ae774",
   "metadata": {},
   "outputs": [
    {
     "name": "stdout",
     "output_type": "stream",
     "text": [
      "Abweichung vom Literaturwert: 0.28\n"
     ]
    }
   ],
   "source": [
    "t_lit_1 = 54 * 60\n",
    "\n",
    "sigma_1 = np.abs(t_lit_1 - t_hw_1) / t_hw_1_err\n",
    "\n",
    "print('Abweichung vom Literaturwert: {0:.2f}'.format(sigma_1))"
   ]
  }
 ],
 "metadata": {
  "kernelspec": {
   "display_name": "Python 3",
   "language": "python",
   "name": "python3"
  },
  "language_info": {
   "codemirror_mode": {
    "name": "ipython",
    "version": 3
   },
   "file_extension": ".py",
   "mimetype": "text/x-python",
   "name": "python",
   "nbconvert_exporter": "python",
   "pygments_lexer": "ipython3",
   "version": "3.8.8"
  }
 },
 "nbformat": 4,
 "nbformat_minor": 5
}
