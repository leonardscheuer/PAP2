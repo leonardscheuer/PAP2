{
 "cells": [
  {
   "cell_type": "markdown",
   "metadata": {},
   "source": [
    "## Motivation\n",
    "In diesem Versuch soll die statistische Natur des radioaktiven Zerfalls betrachtet werden. Vor allem soll sich mit dem Geiger-Müller-Zähler vertraut gemacht werden. \n",
    "\n",
    "## Grundlagen\n",
    "### Geiger-Müller-Zähler\n",
    "Mit dem GMZ lässt sich ionisierende Strahlung nachweisen. Das Zählrohr ist mit ionisierbarem Gas gefüllt, es wird eine Spannung angelegt, sodass die bei einer Ionisation freiwerdenen Elektronen beschleunigt werden und eine Elektronenlawine im Gas auslösen. Der Strom wird gemessen und damit das Ereignis registiert. \n",
    "Je nach angelegter Spannung erreichen nicht alle Primärelektronen diesen Effekt/ die Anode. Im linearitästbereich gelangen alle Elektronen an die Anode, jedoch werden kein Sekundärelektronen erzeigt, der Strom ist hier prop. zur Energie der Eintreffenen Strahlung. Bei höherer Spannung wird wie oben beschrieben stets "
   ]
  }
 ],
 "metadata": {
  "kernelspec": {
   "display_name": "Python 3",
   "language": "python",
   "name": "python3"
  },
  "language_info": {
   "codemirror_mode": {
    "name": "ipython",
    "version": 3
   },
   "file_extension": ".py",
   "mimetype": "text/x-python",
   "name": "python",
   "nbconvert_exporter": "python",
   "pygments_lexer": "ipython3",
   "version": "3.6.6+"
  }
 },
 "nbformat": 4,
 "nbformat_minor": 2
}
